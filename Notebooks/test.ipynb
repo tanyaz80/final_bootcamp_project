{
 "cells": [
  {
   "cell_type": "code",
   "execution_count": 94,
   "metadata": {},
   "outputs": [],
   "source": [
    "import pandas as pd\n",
    "import numpy as np\n",
    "import functions\n",
    "from sklearn.metrics import accuracy_score, classification_report, confusion_matrix, ConfusionMatrixDisplay, cohen_kappa_score"
   ]
  },
  {
   "cell_type": "code",
   "execution_count": 95,
   "metadata": {},
   "outputs": [
    {
     "data": {
      "text/html": [
       "<div>\n",
       "<style scoped>\n",
       "    .dataframe tbody tr th:only-of-type {\n",
       "        vertical-align: middle;\n",
       "    }\n",
       "\n",
       "    .dataframe tbody tr th {\n",
       "        vertical-align: top;\n",
       "    }\n",
       "\n",
       "    .dataframe thead th {\n",
       "        text-align: right;\n",
       "    }\n",
       "</style>\n",
       "<table border=\"1\" class=\"dataframe\">\n",
       "  <thead>\n",
       "    <tr style=\"text-align: right;\">\n",
       "      <th></th>\n",
       "      <th>Unnamed: 0</th>\n",
       "      <th>title</th>\n",
       "      <th>text</th>\n",
       "      <th>label</th>\n",
       "    </tr>\n",
       "  </thead>\n",
       "  <tbody>\n",
       "    <tr>\n",
       "      <th>0</th>\n",
       "      <td>8476</td>\n",
       "      <td>You Can Smell Hillary’s Fear</td>\n",
       "      <td>Daniel Greenfield, a Shillman Journalism Fello...</td>\n",
       "      <td>FAKE</td>\n",
       "    </tr>\n",
       "    <tr>\n",
       "      <th>1</th>\n",
       "      <td>10294</td>\n",
       "      <td>Watch The Exact Moment Paul Ryan Committed Pol...</td>\n",
       "      <td>Google Pinterest Digg Linkedin Reddit Stumbleu...</td>\n",
       "      <td>FAKE</td>\n",
       "    </tr>\n",
       "    <tr>\n",
       "      <th>2</th>\n",
       "      <td>3608</td>\n",
       "      <td>Kerry to go to Paris in gesture of sympathy</td>\n",
       "      <td>U.S. Secretary of State John F. Kerry said Mon...</td>\n",
       "      <td>REAL</td>\n",
       "    </tr>\n",
       "    <tr>\n",
       "      <th>3</th>\n",
       "      <td>10142</td>\n",
       "      <td>Bernie supporters on Twitter erupt in anger ag...</td>\n",
       "      <td>— Kaydee King (@KaydeeKing) November 9, 2016 T...</td>\n",
       "      <td>FAKE</td>\n",
       "    </tr>\n",
       "    <tr>\n",
       "      <th>4</th>\n",
       "      <td>875</td>\n",
       "      <td>The Battle of New York: Why This Primary Matters</td>\n",
       "      <td>It's primary day in New York and front-runners...</td>\n",
       "      <td>REAL</td>\n",
       "    </tr>\n",
       "  </tbody>\n",
       "</table>\n",
       "</div>"
      ],
      "text/plain": [
       "   Unnamed: 0                                              title  \\\n",
       "0        8476                       You Can Smell Hillary’s Fear   \n",
       "1       10294  Watch The Exact Moment Paul Ryan Committed Pol...   \n",
       "2        3608        Kerry to go to Paris in gesture of sympathy   \n",
       "3       10142  Bernie supporters on Twitter erupt in anger ag...   \n",
       "4         875   The Battle of New York: Why This Primary Matters   \n",
       "\n",
       "                                                text label  \n",
       "0  Daniel Greenfield, a Shillman Journalism Fello...  FAKE  \n",
       "1  Google Pinterest Digg Linkedin Reddit Stumbleu...  FAKE  \n",
       "2  U.S. Secretary of State John F. Kerry said Mon...  REAL  \n",
       "3  — Kaydee King (@KaydeeKing) November 9, 2016 T...  FAKE  \n",
       "4  It's primary day in New York and front-runners...  REAL  "
      ]
     },
     "execution_count": 95,
     "metadata": {},
     "output_type": "execute_result"
    }
   ],
   "source": [
    "news=pd.read_csv('../Data/news.zip', compression='zip')\n",
    "news.head()"
   ]
  },
  {
   "cell_type": "code",
   "execution_count": 96,
   "metadata": {},
   "outputs": [],
   "source": [
    "news=news.drop(['Unnamed: 0'], axis=1)"
   ]
  },
  {
   "cell_type": "code",
   "execution_count": 97,
   "metadata": {},
   "outputs": [],
   "source": [
    "news=news.replace('REAL', 1)\n",
    "news=news.replace('FAKE', 0)"
   ]
  },
  {
   "cell_type": "code",
   "execution_count": 98,
   "metadata": {},
   "outputs": [
    {
     "data": {
      "text/html": [
       "<div>\n",
       "<style scoped>\n",
       "    .dataframe tbody tr th:only-of-type {\n",
       "        vertical-align: middle;\n",
       "    }\n",
       "\n",
       "    .dataframe tbody tr th {\n",
       "        vertical-align: top;\n",
       "    }\n",
       "\n",
       "    .dataframe thead th {\n",
       "        text-align: right;\n",
       "    }\n",
       "</style>\n",
       "<table border=\"1\" class=\"dataframe\">\n",
       "  <thead>\n",
       "    <tr style=\"text-align: right;\">\n",
       "      <th></th>\n",
       "      <th>title</th>\n",
       "      <th>text</th>\n",
       "      <th>label</th>\n",
       "    </tr>\n",
       "  </thead>\n",
       "  <tbody>\n",
       "    <tr>\n",
       "      <th>0</th>\n",
       "      <td>You Can Smell Hillary’s Fear</td>\n",
       "      <td>Daniel Greenfield, a Shillman Journalism Fello...</td>\n",
       "      <td>0</td>\n",
       "    </tr>\n",
       "    <tr>\n",
       "      <th>1</th>\n",
       "      <td>Watch The Exact Moment Paul Ryan Committed Pol...</td>\n",
       "      <td>Google Pinterest Digg Linkedin Reddit Stumbleu...</td>\n",
       "      <td>0</td>\n",
       "    </tr>\n",
       "    <tr>\n",
       "      <th>2</th>\n",
       "      <td>Kerry to go to Paris in gesture of sympathy</td>\n",
       "      <td>U.S. Secretary of State John F. Kerry said Mon...</td>\n",
       "      <td>1</td>\n",
       "    </tr>\n",
       "    <tr>\n",
       "      <th>3</th>\n",
       "      <td>Bernie supporters on Twitter erupt in anger ag...</td>\n",
       "      <td>— Kaydee King (@KaydeeKing) November 9, 2016 T...</td>\n",
       "      <td>0</td>\n",
       "    </tr>\n",
       "    <tr>\n",
       "      <th>4</th>\n",
       "      <td>The Battle of New York: Why This Primary Matters</td>\n",
       "      <td>It's primary day in New York and front-runners...</td>\n",
       "      <td>1</td>\n",
       "    </tr>\n",
       "  </tbody>\n",
       "</table>\n",
       "</div>"
      ],
      "text/plain": [
       "                                               title  \\\n",
       "0                       You Can Smell Hillary’s Fear   \n",
       "1  Watch The Exact Moment Paul Ryan Committed Pol...   \n",
       "2        Kerry to go to Paris in gesture of sympathy   \n",
       "3  Bernie supporters on Twitter erupt in anger ag...   \n",
       "4   The Battle of New York: Why This Primary Matters   \n",
       "\n",
       "                                                text  label  \n",
       "0  Daniel Greenfield, a Shillman Journalism Fello...      0  \n",
       "1  Google Pinterest Digg Linkedin Reddit Stumbleu...      0  \n",
       "2  U.S. Secretary of State John F. Kerry said Mon...      1  \n",
       "3  — Kaydee King (@KaydeeKing) November 9, 2016 T...      0  \n",
       "4  It's primary day in New York and front-runners...      1  "
      ]
     },
     "execution_count": 98,
     "metadata": {},
     "output_type": "execute_result"
    }
   ],
   "source": [
    "news.head()"
   ]
  },
  {
   "cell_type": "code",
   "execution_count": 99,
   "metadata": {},
   "outputs": [],
   "source": [
    "news['text']=news['text'].apply(functions.clean_up)"
   ]
  },
  {
   "cell_type": "code",
   "execution_count": 100,
   "metadata": {},
   "outputs": [],
   "source": [
    "news['title']=news['title'].apply(functions.clean_up)"
   ]
  },
  {
   "cell_type": "code",
   "execution_count": 101,
   "metadata": {},
   "outputs": [],
   "source": [
    "X_text = news[\"text\"]\n",
    "X_title=news['title']\n",
    "y = news[\"label\"]"
   ]
  },
  {
   "cell_type": "code",
   "execution_count": 102,
   "metadata": {},
   "outputs": [],
   "source": [
    "vectorization_text = functions.load(\"../Vectorizers/vectorization_text.pickle\")"
   ]
  },
  {
   "cell_type": "code",
   "execution_count": 103,
   "metadata": {},
   "outputs": [],
   "source": [
    "vectorization_title = functions.load(\"../Vectorizers/vectorization_title.pickle\")"
   ]
  },
  {
   "cell_type": "code",
   "execution_count": 104,
   "metadata": {},
   "outputs": [],
   "source": [
    "X_vect_text = vectorization_text.transform(X_text)\n"
   ]
  },
  {
   "cell_type": "code",
   "execution_count": 105,
   "metadata": {},
   "outputs": [],
   "source": [
    "X_vect_title = vectorization_title.transform(X_title)"
   ]
  },
  {
   "cell_type": "code",
   "execution_count": 106,
   "metadata": {},
   "outputs": [],
   "source": [
    "\n",
    "lr_text = functions.load(\"../Models/lr.pickle\")\n",
    "lr_title = functions.load(\"../Models/lr_title.pickle\")\n",
    "pac_text = functions.load(\"../Models/pac.pickle\")\n",
    "pac_title = functions.load(\"../Models/pac_title.pickle\")\n",
    "rfc_text = functions.load(\"../Models/rfc.pickle\")\n",
    "rfc_title = functions.load(\"../Models/rfc_title.pickle\")"
   ]
  },
  {
   "cell_type": "code",
   "execution_count": 107,
   "metadata": {},
   "outputs": [
    {
     "data": {
      "text/plain": [
       "<6335x100029 sparse matrix of type '<class 'numpy.float64'>'\n",
       "\twith 2089644 stored elements in Compressed Sparse Row format>"
      ]
     },
     "execution_count": 107,
     "metadata": {},
     "output_type": "execute_result"
    }
   ],
   "source": [
    "X_vect_text"
   ]
  },
  {
   "cell_type": "code",
   "execution_count": 108,
   "metadata": {},
   "outputs": [
    {
     "data": {
      "text/plain": [
       "<6335x18366 sparse matrix of type '<class 'numpy.float64'>'\n",
       "\twith 60181 stored elements in Compressed Sparse Row format>"
      ]
     },
     "execution_count": 108,
     "metadata": {},
     "output_type": "execute_result"
    }
   ],
   "source": [
    "X_vect_title"
   ]
  },
  {
   "cell_type": "code",
   "execution_count": 109,
   "metadata": {},
   "outputs": [
    {
     "name": "stdout",
     "output_type": "stream",
     "text": [
      "The accuracy of the model in the Test set is:  0.593\n",
      "The Kappa in the Test set is: 0.19\n",
      "              precision    recall  f1-score   support\n",
      "\n",
      "           0       0.56      0.93      0.69      3164\n",
      "           1       0.78      0.26      0.39      3171\n",
      "\n",
      "    accuracy                           0.59      6335\n",
      "   macro avg       0.67      0.59      0.54      6335\n",
      "weighted avg       0.67      0.59      0.54      6335\n",
      "\n"
     ]
    }
   ],
   "source": [
    "y_pred=lr_text.predict(X_vect_text)\n",
    "lr_text.score(X_vect_text, y)\n",
    "print(\"The accuracy of the model in the Test set is: \",round(lr_text.score(X_vect_text, y),3))\n",
    "print(\"The Kappa in the Test set is: {:.2f}\".format(cohen_kappa_score(y, y_pred)))\n",
    "print(classification_report(y, y_pred))\n"
   ]
  },
  {
   "cell_type": "code",
   "execution_count": 110,
   "metadata": {},
   "outputs": [
    {
     "name": "stdout",
     "output_type": "stream",
     "text": [
      "The accuracy of the model in the Test set is:  0.573\n",
      "The Kappa in the Test set is: 0.15\n",
      "              precision    recall  f1-score   support\n",
      "\n",
      "           0       0.54      0.93      0.69      3164\n",
      "           1       0.76      0.22      0.34      3171\n",
      "\n",
      "    accuracy                           0.57      6335\n",
      "   macro avg       0.65      0.57      0.51      6335\n",
      "weighted avg       0.65      0.57      0.51      6335\n",
      "\n"
     ]
    }
   ],
   "source": [
    "y_pred_pac=pac_text.predict(X_vect_text)\n",
    "pac_text.score(X_vect_text, y)\n",
    "print(\"The accuracy of the model in the Test set is: \",round(pac_text.score(X_vect_text, y),3))\n",
    "print(\"The Kappa in the Test set is: {:.2f}\".format(cohen_kappa_score(y, y_pred_pac)))\n",
    "print(classification_report(y, y_pred_pac))"
   ]
  },
  {
   "cell_type": "code",
   "execution_count": 111,
   "metadata": {},
   "outputs": [
    {
     "name": "stdout",
     "output_type": "stream",
     "text": [
      "The accuracy of the model in the Test set is:  0.561\n",
      "The Kappa in the Test set is: 0.12\n",
      "              precision    recall  f1-score   support\n",
      "\n",
      "           0       0.54      0.88      0.67      3164\n",
      "           1       0.67      0.24      0.36      3171\n",
      "\n",
      "    accuracy                           0.56      6335\n",
      "   macro avg       0.60      0.56      0.51      6335\n",
      "weighted avg       0.60      0.56      0.51      6335\n",
      "\n"
     ]
    }
   ],
   "source": [
    "y_pred_rfc=rfc_text.predict(X_vect_text)\n",
    "rfc_text.score(X_vect_text, y)\n",
    "print(\"The accuracy of the model in the Test set is: \",round(rfc_text.score(X_vect_text, y),3))\n",
    "print(\"The Kappa in the Test set is: {:.2f}\".format(cohen_kappa_score(y, y_pred_rfc)))\n",
    "print(classification_report(y, y_pred_rfc))"
   ]
  },
  {
   "cell_type": "markdown",
   "metadata": {},
   "source": [
    "# checking predictoin for titles"
   ]
  },
  {
   "cell_type": "code",
   "execution_count": 90,
   "metadata": {},
   "outputs": [
    {
     "data": {
      "text/plain": [
       "<6335x18322 sparse matrix of type '<class 'numpy.float64'>'\n",
       "\twith 60186 stored elements in Compressed Sparse Row format>"
      ]
     },
     "execution_count": 90,
     "metadata": {},
     "output_type": "execute_result"
    }
   ],
   "source": [
    "X_vect_title"
   ]
  },
  {
   "cell_type": "code",
   "execution_count": 113,
   "metadata": {},
   "outputs": [
    {
     "name": "stdout",
     "output_type": "stream",
     "text": [
      "The accuracy of the model in the Test set is:  0.565\n",
      "The Kappa in the Test set is: 0.13\n",
      "              precision    recall  f1-score   support\n",
      "\n",
      "           0       0.55      0.71      0.62      3164\n",
      "           1       0.59      0.42      0.49      3171\n",
      "\n",
      "    accuracy                           0.56      6335\n",
      "   macro avg       0.57      0.57      0.56      6335\n",
      "weighted avg       0.57      0.56      0.56      6335\n",
      "\n"
     ]
    }
   ],
   "source": [
    "y_pred_title=lr_title.predict(X_vect_title)\n",
    "lr_title.score(X_vect_title, y)\n",
    "print(\"The accuracy of the model in the Test set is: \",round(lr_title.score(X_vect_title, y),3))\n",
    "print(\"The Kappa in the Test set is: {:.2f}\".format(cohen_kappa_score(y, y_pred_title)))\n",
    "print(classification_report(y, y_pred_title))"
   ]
  },
  {
   "cell_type": "code",
   "execution_count": 114,
   "metadata": {},
   "outputs": [
    {
     "name": "stdout",
     "output_type": "stream",
     "text": [
      "Logistic regression prediction is (0-fake,1-true): 0\n",
      "Passive Agressive Classifier prediction is (0-fake,1-true): 0\n",
      "Random Forest Classifier prediction is (0-fake, 1-true) 0\n"
     ]
    }
   ],
   "source": [
    "news_string = str(input())\n",
    "testing_news = {\"text\":[news_string]} #making a dictionary with the key - \"text\"\n",
    "new_def_test = pd.DataFrame(testing_news) #data frame for testing\n",
    "new_def_test[\"text\"] = new_def_test[\"text\"].apply(functions.clean_up) #cleaning up\n",
    "new_x_test = new_def_test[\"text\"] #taking only text \n",
    "new_xv_test = vectorization_text.transform(new_x_test) #vectorization\n",
    "pred_LR = lr_text.predict(new_xv_test) #predictions\n",
    "pred_PAC = pac_text.predict(new_xv_test)\n",
    "pred_RFC = rfc_text.predict(new_xv_test)\n",
    "print ('Logistic regression prediction is (0-fake,1-true):',pred_LR[0])\n",
    "print ('Passive Agressive Classifier prediction is (0-fake,1-true):',pred_PAC[0])\n",
    "print ('Random Forest Classifier prediction is (0-fake, 1-true)',pred_RFC[0])"
   ]
  },
  {
   "cell_type": "code",
   "execution_count": 75,
   "metadata": {},
   "outputs": [
    {
     "data": {
      "text/plain": [
       "{'text': ['In July 2016, a the web site WTOE 5 News  reported that Pope Francis had broken with tradition and unequivocally endorsed Donald Trump for President of the United State  News outlets around the world are reporting on the news that Pope Francis has made the unprecedented decision to endorse a US presidential candidate. His statement in support of Donald Trump was released from the Vatican this evening:  “I have been hesitant to offer any kind of support for either candidate in the US presidential election but I now feel that to not voice my concern would be a dereliction of my duty as the Holy See.  There was no truth to this story, however. Although WTOE 5 News proclaimed that \"news outlets around the world\" were reporting on the Pope\\'s unprecedented endorsement, no reputable news publications confirmed it, because WTOE 5 News  is one of many fake news sites that masquerade as local television news outlets and do not publish factual stories:  WTOE 5 News is a fantasy news website.  Most articles on wtoe5news.com are satire or pure fantasy.  This is at least the second time a \"satire\" news article claimed that Pope Francis had offered an endorsement of a candidate during the 2016 presidential election. In October 2015, another fake news web site reported that the Pope had endorsed Democratic contender Bernie Sanders.  That story was also a hoax.']}"
      ]
     },
     "execution_count": 75,
     "metadata": {},
     "output_type": "execute_result"
    }
   ],
   "source": [
    "testing_news "
   ]
  },
  {
   "cell_type": "code",
   "execution_count": 116,
   "metadata": {},
   "outputs": [
    {
     "name": "stdout",
     "output_type": "stream",
     "text": [
      "Logistic regression prediction is (0-fake,1-true): 1\n",
      "Passive Agressive Classifier prediction is (0-fake,1-true): 1\n",
      "Random Forest Classifier prediction is (0-fake, 1-true) 1\n"
     ]
    }
   ],
   "source": [
    "news_string_title = str(input())\n",
    "testing_news_title = {\"title\":[news_string_title]}\n",
    "new_def_test_title = pd.DataFrame(testing_news_title)\n",
    "new_def_test_title[\"title\"] = new_def_test_title[\"title\"].apply(functions.clean_up) \n",
    "new_x_test_title = new_def_test_title[\"title\"]\n",
    "new_xv_test_title = vectorization_title.transform(new_x_test_title)\n",
    "pred_LR_title = lr_title.predict(new_xv_test_title)\n",
    "pred_PAC_title = pac_title.predict(new_xv_test_title)\n",
    "pred_RFC_title = rfc_title.predict(new_xv_test_title)\n",
    "print ('Logistic regression prediction is (0-fake,1-true):',pred_LR_title[0])\n",
    "print ('Passive Agressive Classifier prediction is (0-fake,1-true):',pred_PAC_title[0])\n",
    "print ('Random Forest Classifier prediction is (0-fake, 1-true)',pred_RFC_title[0])"
   ]
  },
  {
   "cell_type": "code",
   "execution_count": null,
   "metadata": {},
   "outputs": [],
   "source": []
  },
  {
   "cell_type": "code",
   "execution_count": null,
   "metadata": {},
   "outputs": [],
   "source": []
  },
  {
   "cell_type": "code",
   "execution_count": null,
   "metadata": {},
   "outputs": [],
   "source": []
  }
 ],
 "metadata": {
  "kernelspec": {
   "display_name": "Python 3.9.15 ('final_bootcamp_project')",
   "language": "python",
   "name": "python3"
  },
  "language_info": {
   "codemirror_mode": {
    "name": "ipython",
    "version": 3
   },
   "file_extension": ".py",
   "mimetype": "text/x-python",
   "name": "python",
   "nbconvert_exporter": "python",
   "pygments_lexer": "ipython3",
   "version": "3.9.15"
  },
  "orig_nbformat": 4,
  "vscode": {
   "interpreter": {
    "hash": "8407aadebaa0a5399e35cd0bf193ed799ae2cf1cd6fd63326c71051ab785952b"
   }
  }
 },
 "nbformat": 4,
 "nbformat_minor": 2
}
